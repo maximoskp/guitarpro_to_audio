{
 "cells": [
  {
   "cell_type": "code",
   "execution_count": 1,
   "id": "2556e6a1-184d-41a6-a572-e5488f74a4cd",
   "metadata": {},
   "outputs": [],
   "source": [
    "file_path = '../files/midi/Montgomery,_Wes_-_West_Coast_Blues_gp3/test.mid'\n",
    "info_path = '../files/audio/Montgomery,_Wes_-_West_Coast_Blues_gp3/info.json'\n",
    "import mido\n",
    "import json\n",
    "import numpy as np"
   ]
  },
  {
   "cell_type": "code",
   "execution_count": 2,
   "id": "39e1ff58-bba0-4461-a329-1026d523aab8",
   "metadata": {},
   "outputs": [],
   "source": [
    "song = mido.MidiFile(file_path)\n",
    "with open(info_path, 'r') as fp:\n",
    "        info_dictionary = json.load(fp)"
   ]
  },
  {
   "cell_type": "code",
   "execution_count": 3,
   "id": "a33b32bd-f776-47c6-a3fa-a4d9a34e4be6",
   "metadata": {},
   "outputs": [
    {
     "name": "stdout",
     "output_type": "stream",
     "text": [
      "{'track_0': {'type': 'guitar'}, 'track_1': {'type': 'guitar'}, 'track_2': {'type': 'guitar'}, 'track_3': {'type': 'bass'}, 'track_4': {'type': 'guitar'}, 'track_5': {'type': 'percussion'}}\n"
     ]
    }
   ],
   "source": [
    "print(info_dictionary)"
   ]
  },
  {
   "cell_type": "code",
   "execution_count": 25,
   "id": "a1b41dd9-7f54-4a0c-b864-09da1d55869c",
   "metadata": {},
   "outputs": [
    {
     "name": "stdout",
     "output_type": "stream",
     "text": [
      "480\n",
      "150\n",
      "0.39999999999999997\n"
     ]
    }
   ],
   "source": [
    "def get_song_tempo(s):\n",
    "    # returns a list of the tempi found\n",
    "    tempi_musec = []\n",
    "    # get tempo\n",
    "    for track in s.tracks:\n",
    "        for msg in track:\n",
    "            if msg.type == 'set_tempo':\n",
    "                tempi_musec.append( msg.tempo )\n",
    "    # if no tempo found, get default mido tempo\n",
    "    if len(tempi_musec) == 0:\n",
    "        # default mido tempo, in microseconds per tick\n",
    "        tempi_musec = [500000]\n",
    "    return tempi_musec\n",
    "# end get_song_tempo"
   ]
  },
  {
   "cell_type": "code",
   "execution_count": null,
   "id": "8c1b2145-c2ac-462f-9428-4217c5a485d8",
   "metadata": {},
   "outputs": [],
   "source": [
    "tempi_musec = get_song_tempo(song)\n",
    "# we don't want multiple tempi\n",
    "if len( tempo_musec ) > 1:\n",
    "    print('ERROR: multiple tempi, skipping file')\n",
    "else:\n",
    "    tempo_musec = tempi_musec[0]\n",
    "    # for sanity check\n",
    "    tempo_bpm = mido.bpm2tempo(tempo_musec)\n",
    "    print(tempo_bpm)"
   ]
  },
  {
   "cell_type": "code",
   "execution_count": 36,
   "id": "f77549b5-26b3-4f9b-9eaa-0ad3a80dc873",
   "metadata": {},
   "outputs": [
    {
     "name": "stdout",
     "output_type": "stream",
     "text": [
      "[{'on_idx': 8, 'off_idx': 9, 'pitch': 34, 'time_on': 1.2, 'time_off': 2.3991666666666664}, {'on_idx': 10, 'off_idx': 11, 'pitch': 41, 'time_on': 2.4, 'time_off': 3.5991666666666666}, {'on_idx': 12, 'off_idx': 13, 'pitch': 44, 'time_on': 3.5999999999999996, 'time_off': 4.799166666666666}, {'on_idx': 14, 'off_idx': 15, 'pitch': 51, 'time_on': 4.8, 'time_off': 5.399166666666666}, {'on_idx': 16, 'off_idx': 17, 'pitch': 56, 'time_on': 5.3999999999999995, 'time_off': 5.9991666666666665}, {'on_idx': 18, 'off_idx': 19, 'pitch': 34, 'time_on': 6.0, 'time_off': 7.199166666666666}, {'on_idx': 20, 'off_idx': 21, 'pitch': 41, 'time_on': 7.199999999999999, 'time_off': 8.199166666666667}, {'on_idx': 22, 'off_idx': 23, 'pitch': 41, 'time_on': 8.2, 'time_off': 8.399166666666666}, {'on_idx': 24, 'off_idx': 25, 'pitch': 47, 'time_on': 8.399999999999999, 'time_off': 8.999166666666666}, {'on_idx': 26, 'off_idx': 27, 'pitch': 42, 'time_on': 9.0, 'time_off': 9.199166666666667}, {'on_idx': 28, 'off_idx': 29, 'pitch': 35, 'time_on': 9.399999999999999, 'time_off': 9.599166666666665}, {'on_idx': 30, 'off_idx': 31, 'pitch': 40, 'time_on': 9.6, 'time_off': 10.599166666666665}, {'on_idx': 32, 'off_idx': 34, 'pitch': 47, 'time_on': 10.6, 'time_off': 10.999166666666666}, {'on_idx': 33, 'off_idx': 35, 'pitch': 34, 'time_on': 10.799999999999999, 'time_off': 11.199166666666667}, {'on_idx': 36, 'off_idx': 37, 'pitch': 41, 'time_on': 11.399999999999999, 'time_off': 11.999166666666666}, {'on_idx': 38, 'off_idx': 39, 'pitch': 39, 'time_on': 12.0, 'time_off': 13.199166666666665}, {'on_idx': 40, 'off_idx': 41, 'pitch': 39, 'time_on': 13.2, 'time_off': 13.799166666666666}, {'on_idx': 42, 'off_idx': 43, 'pitch': 46, 'time_on': 13.799999999999999, 'time_off': 14.399166666666666}, {'on_idx': 44, 'off_idx': 45, 'pitch': 44, 'time_on': 14.399999999999999, 'time_off': 15.599166666666665}, {'on_idx': 46, 'off_idx': 47, 'pitch': 38, 'time_on': 15.6, 'time_off': 16.599166666666665}, {'on_idx': 48, 'off_idx': 49, 'pitch': 45, 'time_on': 16.599999999999998, 'time_off': 16.799166666666665}, {'on_idx': 50, 'off_idx': 51, 'pitch': 43, 'time_on': 16.799999999999997, 'time_off': 17.799166666666665}, {'on_idx': 52, 'off_idx': 53, 'pitch': 50, 'time_on': 17.799999999999997, 'time_off': 17.999166666666664}, {'on_idx': 54, 'off_idx': 55, 'pitch': 37, 'time_on': 18.0, 'time_off': 18.999166666666664}, {'on_idx': 56, 'off_idx': 57, 'pitch': 44, 'time_on': 19.0, 'time_off': 19.199166666666667}, {'on_idx': 58, 'off_idx': 59, 'pitch': 42, 'time_on': 19.2, 'time_off': 20.399166666666666}, {'on_idx': 60, 'off_idx': 61, 'pitch': 36, 'time_on': 20.4, 'time_off': 20.999166666666664}, {'on_idx': 62, 'off_idx': 63, 'pitch': 43, 'time_on': 21.0, 'time_off': 21.599166666666665}, {'on_idx': 64, 'off_idx': 65, 'pitch': 41, 'time_on': 21.599999999999998, 'time_off': 22.199166666666667}, {'on_idx': 66, 'off_idx': 67, 'pitch': 48, 'time_on': 22.2, 'time_off': 22.799166666666665}, {'on_idx': 68, 'off_idx': 69, 'pitch': 36, 'time_on': 22.799999999999997, 'time_off': 23.799166666666665}, {'on_idx': 70, 'off_idx': 71, 'pitch': 43, 'time_on': 23.799999999999997, 'time_off': 23.999166666666664}, {'on_idx': 72, 'off_idx': 73, 'pitch': 41, 'time_on': 24.0, 'time_off': 24.599166666666665}, {'on_idx': 74, 'off_idx': 75, 'pitch': 48, 'time_on': 24.599999999999998, 'time_off': 25.199166666666667}, {'on_idx': 76, 'off_idx': 77, 'pitch': 46, 'time_on': 25.2, 'time_off': 25.799166666666665}, {'on_idx': 78, 'off_idx': 79, 'pitch': 41, 'time_on': 25.799999999999997, 'time_off': 25.999166666666664}, {'on_idx': 80, 'off_idx': 81, 'pitch': 34, 'time_on': 26.2, 'time_off': 26.399166666666666}, {'on_idx': 82, 'off_idx': 83, 'pitch': 37, 'time_on': 26.4, 'time_off': 26.999166666666664}, {'on_idx': 84, 'off_idx': 85, 'pitch': 44, 'time_on': 26.999999999999996, 'time_off': 27.599166666666665}, {'on_idx': 86, 'off_idx': 87, 'pitch': 42, 'time_on': 27.599999999999998, 'time_off': 28.599166666666665}, {'on_idx': 88, 'off_idx': 89, 'pitch': 49, 'time_on': 28.599999999999998, 'time_off': 28.799166666666665}, {'on_idx': 90, 'off_idx': 91, 'pitch': 35, 'time_on': 28.799999999999997, 'time_off': 29.799166666666665}, {'on_idx': 92, 'off_idx': 93, 'pitch': 42, 'time_on': 29.799999999999997, 'time_off': 29.999166666666664}, {'on_idx': 94, 'off_idx': 95, 'pitch': 34, 'time_on': 29.999999999999996, 'time_off': 31.199166666666663}, {'on_idx': 96, 'off_idx': 97, 'pitch': 41, 'time_on': 31.2, 'time_off': 32.399166666666666}, {'on_idx': 98, 'off_idx': 99, 'pitch': 44, 'time_on': 32.4, 'time_off': 33.59916666666666}, {'on_idx': 100, 'off_idx': 101, 'pitch': 51, 'time_on': 33.599999999999994, 'time_off': 34.19916666666666}, {'on_idx': 102, 'off_idx': 103, 'pitch': 56, 'time_on': 34.199999999999996, 'time_off': 34.799166666666665}, {'on_idx': 104, 'off_idx': 105, 'pitch': 34, 'time_on': 34.8, 'time_off': 35.399166666666666}, {'on_idx': 106, 'off_idx': 107, 'pitch': 46, 'time_on': 35.4, 'time_off': 35.799166666666665}, {'on_idx': 108, 'off_idx': 109, 'pitch': 34, 'time_on': 35.8, 'time_off': 35.99916666666667}, {'on_idx': 110, 'off_idx': 111, 'pitch': 41, 'time_on': 36.0, 'time_off': 36.59916666666666}, {'on_idx': 112, 'off_idx': 113, 'pitch': 41, 'time_on': 36.599999999999994, 'time_off': 36.799166666666665}, {'on_idx': 114, 'off_idx': 115, 'pitch': 41, 'time_on': 37.0, 'time_off': 37.19916666666666}, {'on_idx': 116, 'off_idx': 117, 'pitch': 35, 'time_on': 37.199999999999996, 'time_off': 38.399166666666666}, {'on_idx': 118, 'off_idx': 119, 'pitch': 40, 'time_on': 38.4, 'time_off': 38.99916666666667}, {'on_idx': 120, 'off_idx': 121, 'pitch': 47, 'time_on': 39.0, 'time_off': 39.59916666666666}, {'on_idx': 122, 'off_idx': 123, 'pitch': 46, 'time_on': 39.599999999999994, 'time_off': 40.19916666666666}, {'on_idx': 124, 'off_idx': 125, 'pitch': 34, 'time_on': 40.199999999999996, 'time_off': 40.799166666666665}, {'on_idx': 126, 'off_idx': 127, 'pitch': 39, 'time_on': 40.8, 'time_off': 41.799166666666665}, {'on_idx': 128, 'off_idx': 129, 'pitch': 46, 'time_on': 41.8, 'time_off': 41.99916666666667}, {'on_idx': 130, 'off_idx': 131, 'pitch': 39, 'time_on': 42.0, 'time_off': 43.19916666666666}, {'on_idx': 132, 'off_idx': 133, 'pitch': 44, 'time_on': 43.199999999999996, 'time_off': 44.19916666666666}, {'on_idx': 134, 'off_idx': 135, 'pitch': 51, 'time_on': 44.199999999999996, 'time_off': 44.399166666666666}, {'on_idx': 136, 'off_idx': 137, 'pitch': 38, 'time_on': 44.4, 'time_off': 45.59916666666666}, {'on_idx': 138, 'off_idx': 139, 'pitch': 43, 'time_on': 45.599999999999994, 'time_off': 46.59916666666666}, {'on_idx': 140, 'off_idx': 141, 'pitch': 50, 'time_on': 46.599999999999994, 'time_off': 46.799166666666665}, {'on_idx': 142, 'off_idx': 143, 'pitch': 37, 'time_on': 46.8, 'time_off': 47.99916666666666}, {'on_idx': 144, 'off_idx': 145, 'pitch': 42, 'time_on': 48.0, 'time_off': 48.59916666666666}, {'on_idx': 146, 'off_idx': 147, 'pitch': 49, 'time_on': 48.599999999999994, 'time_off': 49.19916666666666}, {'on_idx': 148, 'off_idx': 149, 'pitch': 36, 'time_on': 49.199999999999996, 'time_off': 49.799166666666665}, {'on_idx': 150, 'off_idx': 151, 'pitch': 43, 'time_on': 49.8, 'time_off': 50.399166666666666}, {'on_idx': 152, 'off_idx': 153, 'pitch': 41, 'time_on': 50.4, 'time_off': 51.59916666666666}, {'on_idx': 154, 'off_idx': 155, 'pitch': 36, 'time_on': 51.599999999999994, 'time_off': 52.59916666666666}, {'on_idx': 156, 'off_idx': 157, 'pitch': 43, 'time_on': 52.599999999999994, 'time_off': 52.799166666666665}, {'on_idx': 158, 'off_idx': 159, 'pitch': 41, 'time_on': 52.8, 'time_off': 53.99916666666666}, {'on_idx': 160, 'off_idx': 161, 'pitch': 46, 'time_on': 53.99999999999999, 'time_off': 54.59916666666666}, {'on_idx': 162, 'off_idx': 163, 'pitch': 41, 'time_on': 54.599999999999994, 'time_off': 54.799166666666665}, {'on_idx': 164, 'off_idx': 165, 'pitch': 34, 'time_on': 54.99999999999999, 'time_off': 55.19916666666666}, {'on_idx': 166, 'off_idx': 167, 'pitch': 49, 'time_on': 55.199999999999996, 'time_off': 55.799166666666665}, {'on_idx': 168, 'off_idx': 169, 'pitch': 44, 'time_on': 55.8, 'time_off': 55.99916666666666}, {'on_idx': 170, 'off_idx': 171, 'pitch': 37, 'time_on': 56.199999999999996, 'time_off': 56.399166666666666}, {'on_idx': 172, 'off_idx': 173, 'pitch': 42, 'time_on': 56.4, 'time_off': 56.99916666666666}, {'on_idx': 174, 'off_idx': 175, 'pitch': 49, 'time_on': 56.99999999999999, 'time_off': 57.59916666666666}, {'on_idx': 176, 'off_idx': 177, 'pitch': 35, 'time_on': 57.599999999999994, 'time_off': 58.59916666666666}, {'on_idx': 178, 'off_idx': 179, 'pitch': 42, 'time_on': 58.599999999999994, 'time_off': 58.799166666666665}, {'on_idx': 180, 'off_idx': 181, 'pitch': 34, 'time_on': 58.8, 'time_off': 59.99916666666666}, {'on_idx': 182, 'off_idx': 183, 'pitch': 41, 'time_on': 59.99999999999999, 'time_off': 60.99916666666666}, {'on_idx': 184, 'off_idx': 185, 'pitch': 41, 'time_on': 60.99999999999999, 'time_off': 61.19916666666666}, {'on_idx': 186, 'off_idx': 187, 'pitch': 44, 'time_on': 61.199999999999996, 'time_off': 62.399166666666666}, {'on_idx': 188, 'off_idx': 189, 'pitch': 51, 'time_on': 62.4, 'time_off': 63.399166666666666}, {'on_idx': 190, 'off_idx': 191, 'pitch': 51, 'time_on': 63.4, 'time_off': 63.59916666666666}, {'on_idx': 192, 'off_idx': 193, 'pitch': 34, 'time_on': 63.599999999999994, 'time_off': 64.79916666666666}, {'on_idx': 194, 'off_idx': 195, 'pitch': 41, 'time_on': 64.8, 'time_off': 65.79916666666666}, {'on_idx': 196, 'off_idx': 197, 'pitch': 41, 'time_on': 65.8, 'time_off': 65.99916666666667}, {'on_idx': 198, 'off_idx': 199, 'pitch': 35, 'time_on': 66.0, 'time_off': 67.19916666666666}, {'on_idx': 200, 'off_idx': 201, 'pitch': 40, 'time_on': 67.19999999999999, 'time_off': 68.19916666666666}, {'on_idx': 202, 'off_idx': 203, 'pitch': 47, 'time_on': 68.19999999999999, 'time_off': 68.39916666666666}, {'on_idx': 204, 'off_idx': 205, 'pitch': 34, 'time_on': 68.39999999999999, 'time_off': 69.59916666666666}, {'on_idx': 206, 'off_idx': 207, 'pitch': 39, 'time_on': 69.6, 'time_off': 70.79916666666666}, {'on_idx': 208, 'off_idx': 209, 'pitch': 39, 'time_on': 70.8, 'time_off': 71.79916666666666}, {'on_idx': 210, 'off_idx': 211, 'pitch': 46, 'time_on': 71.8, 'time_off': 71.99916666666667}, {'on_idx': 212, 'off_idx': 213, 'pitch': 44, 'time_on': 72.0, 'time_off': 73.19916666666666}, {'on_idx': 214, 'off_idx': 215, 'pitch': 38, 'time_on': 73.19999999999999, 'time_off': 74.39916666666666}, {'on_idx': 216, 'off_idx': 217, 'pitch': 43, 'time_on': 74.39999999999999, 'time_off': 75.59916666666666}, {'on_idx': 218, 'off_idx': 219, 'pitch': 37, 'time_on': 75.6, 'time_off': 76.59916666666666}, {'on_idx': 220, 'off_idx': 221, 'pitch': 44, 'time_on': 76.6, 'time_off': 76.79916666666666}, {'on_idx': 222, 'off_idx': 223, 'pitch': 42, 'time_on': 76.8, 'time_off': 77.79916666666666}, {'on_idx': 224, 'off_idx': 225, 'pitch': 49, 'time_on': 77.8, 'time_off': 77.99916666666667}, {'on_idx': 226, 'off_idx': 227, 'pitch': 36, 'time_on': 78.0, 'time_off': 79.19916666666666}, {'on_idx': 228, 'off_idx': 229, 'pitch': 41, 'time_on': 79.19999999999999, 'time_off': 80.19916666666666}, {'on_idx': 230, 'off_idx': 231, 'pitch': 48, 'time_on': 80.19999999999999, 'time_off': 80.39916666666666}, {'on_idx': 232, 'off_idx': 233, 'pitch': 48, 'time_on': 80.39999999999999, 'time_off': 80.99916666666667}, {'on_idx': 234, 'off_idx': 235, 'pitch': 43, 'time_on': 81.0, 'time_off': 81.19916666666666}, {'on_idx': 236, 'off_idx': 237, 'pitch': 36, 'time_on': 81.39999999999999, 'time_off': 81.59916666666666}, {'on_idx': 238, 'off_idx': 239, 'pitch': 41, 'time_on': 81.6, 'time_off': 82.59916666666666}, {'on_idx': 240, 'off_idx': 241, 'pitch': 48, 'time_on': 82.6, 'time_off': 82.79916666666666}, {'on_idx': 242, 'off_idx': 243, 'pitch': 46, 'time_on': 82.8, 'time_off': 83.39916666666666}, {'on_idx': 244, 'off_idx': 245, 'pitch': 41, 'time_on': 83.39999999999999, 'time_off': 83.59916666666666}, {'on_idx': 246, 'off_idx': 247, 'pitch': 34, 'time_on': 83.8, 'time_off': 83.99916666666667}, {'on_idx': 248, 'off_idx': 249, 'pitch': 49, 'time_on': 84.0, 'time_off': 84.59916666666666}, {'on_idx': 250, 'off_idx': 251, 'pitch': 44, 'time_on': 84.6, 'time_off': 84.79916666666666}, {'on_idx': 252, 'off_idx': 253, 'pitch': 37, 'time_on': 85.0, 'time_off': 85.19916666666666}, {'on_idx': 254, 'off_idx': 255, 'pitch': 42, 'time_on': 85.19999999999999, 'time_off': 85.79916666666666}, {'on_idx': 256, 'off_idx': 257, 'pitch': 49, 'time_on': 85.8, 'time_off': 86.39916666666666}, {'on_idx': 258, 'off_idx': 259, 'pitch': 35, 'time_on': 86.39999999999999, 'time_off': 86.99916666666667}, {'on_idx': 260, 'off_idx': 261, 'pitch': 42, 'time_on': 87.0, 'time_off': 87.59916666666666}]\n"
     ]
    }
   ],
   "source": [
    "# get note ons/offs\n",
    "def get_noteOnOffs_from_midi_track(s, info_dictionary, track_name='bass'):\n",
    "    # s: mido song\n",
    "    # info_dictionary\n",
    "    # track_name: string of track name\n",
    "    for i_track, track in enumerate(s.tracks):\n",
    "        tmp_track_name = info_dictionary['track_' + str(i_track)]['type']\n",
    "        if tmp_track_name == track_name:\n",
    "            note_ons = -1*np.ones(127).astype(int)\n",
    "            note_ons_offs = []\n",
    "            note_on_num = 0\n",
    "            cummulative_time = 0\n",
    "            # count how many notes in the bass channel\n",
    "            for i_message, message in enumerate(track):\n",
    "                cummulative_time += message.time\n",
    "                if message.type == 'note_on':\n",
    "                    if message.velocity > 0:\n",
    "                        # keep the index that triggered the note on\n",
    "                        note_ons[message.note] = note_on_num\n",
    "                        tmp_note_obj = {\n",
    "                            'on_idx': i_message,\n",
    "                            'off_idx': -1,\n",
    "                            'pitch': message.note,\n",
    "                            'time_on': mido.tick2second( cummulative_time, s.ticks_per_beat, tempo ),\n",
    "                            'time_off': -1\n",
    "                        }\n",
    "                        note_ons_offs.append( tmp_note_obj )\n",
    "                        note_on_num += 1\n",
    "                    else:\n",
    "                        if note_ons[message.note] > -1:\n",
    "                            note_ons_offs[ note_ons[message.note] ]['off_idx'] = i_message\n",
    "                            note_ons_offs[ note_ons[message.note] ]['time_off'] = mido.tick2second( cummulative_time, s.ticks_per_beat, tempo )\n",
    "                            note_ons[message.note] = -1\n",
    "                        else:\n",
    "                            print('ERROR: note off without previous note one')\n",
    "    return note_ons_offs\n",
    "# get_noteOnOffs_from_midi_track\n",
    "noteOnOffs = get_noteOnOffs_from_midi_track(song, info_dictionary, 'bass')\n",
    "print(noteOnOffs)"
   ]
  },
  {
   "cell_type": "code",
   "execution_count": 34,
   "id": "10fe8099-4d2d-4de5-a25a-1e373bc08ce1",
   "metadata": {},
   "outputs": [],
   "source": [
    "# number of alterations\n",
    "n = 10\n",
    "# semitones available\n",
    "s = [12, 7, 3, 6]\n",
    "# select alterations at random\n",
    "random_idxs = np.random.permutation(len(note_ons_offs))[:n]\n",
    "# perform alterations\n",
    "for i in random_idxs:\n",
    "    note_ons_offs[i]['pitch'] += s[ np.random.randint( len(s) ) ]"
   ]
  }
 ],
 "metadata": {
  "kernelspec": {
   "display_name": "Python 3 (ipykernel)",
   "language": "python",
   "name": "python3"
  },
  "language_info": {
   "codemirror_mode": {
    "name": "ipython",
    "version": 3
   },
   "file_extension": ".py",
   "mimetype": "text/x-python",
   "name": "python",
   "nbconvert_exporter": "python",
   "pygments_lexer": "ipython3",
   "version": "3.11.7"
  }
 },
 "nbformat": 4,
 "nbformat_minor": 5
}
