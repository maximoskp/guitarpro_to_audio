{
 "cells": [
  {
   "cell_type": "code",
   "execution_count": 28,
   "id": "2556e6a1-184d-41a6-a572-e5488f74a4cd",
   "metadata": {},
   "outputs": [],
   "source": [
    "file_path = '../files/midi/Montgomery,_Wes_-_West_Coast_Blues_gp3/test.mid'\n",
    "info_path = '../files/audio/Montgomery,_Wes_-_West_Coast_Blues_gp3/info.json'\n",
    "import mido\n",
    "import json\n",
    "import numpy as np"
   ]
  },
  {
   "cell_type": "code",
   "execution_count": 7,
   "id": "39e1ff58-bba0-4461-a329-1026d523aab8",
   "metadata": {},
   "outputs": [],
   "source": [
    "song = mido.MidiFile(file_path)\n",
    "with open(info_path, 'r') as fp:\n",
    "        info_dictionary = json.load(fp)"
   ]
  },
  {
   "cell_type": "code",
   "execution_count": 8,
   "id": "a33b32bd-f776-47c6-a3fa-a4d9a34e4be6",
   "metadata": {},
   "outputs": [
    {
     "name": "stdout",
     "output_type": "stream",
     "text": [
      "{'track_0': {'type': 'guitar'}, 'track_1': {'type': 'guitar'}, 'track_2': {'type': 'guitar'}, 'track_3': {'type': 'bass'}, 'track_4': {'type': 'guitar'}, 'track_5': {'type': 'percussion'}}\n"
     ]
    }
   ],
   "source": [
    "print(info_dictionary)"
   ]
  },
  {
   "cell_type": "code",
   "execution_count": 33,
   "id": "f77549b5-26b3-4f9b-9eaa-0ad3a80dc873",
   "metadata": {},
   "outputs": [
    {
     "name": "stdout",
     "output_type": "stream",
     "text": [
      "guitar\n",
      "guitar\n",
      "guitar\n",
      "bass\n",
      "guitar\n",
      "percussion\n"
     ]
    }
   ],
   "source": [
    "for i_track, track in enumerate(song.tracks):\n",
    "    tmp_track_name = info_dictionary['track_' + str(i_track)]['type']\n",
    "    print(tmp_track_name)\n",
    "    if tmp_track_name == 'bass':\n",
    "        note_ons = -1*np.ones(127).astype(int)\n",
    "        notes_on_offs = []\n",
    "        note_on_num = 0\n",
    "        # count how many notes in the bass channel\n",
    "        for i_message, message in enumerate(track):\n",
    "            if message.type == 'note_on':\n",
    "                if message.velocity > 0:\n",
    "                    # keep the index that triggered the note on\n",
    "                    note_ons[message.note] = note_on_num\n",
    "                    tmp_note_obj = {'on_idx': i_message, 'off_idx': -1, 'pitch': message.note}\n",
    "                    notes_on_offs.append( tmp_note_obj )\n",
    "                    note_on_num += 1\n",
    "                else:\n",
    "                    if note_ons[message.note] > -1:\n",
    "                        notes_on_offs[ note_ons[message.note] ]['off_idx'] = i_message\n",
    "                        note_ons[message.note] = -1\n",
    "                    else:\n",
    "                        print('ERROR: note off without previous note one')"
   ]
  },
  {
   "cell_type": "code",
   "execution_count": 32,
   "id": "10fe8099-4d2d-4de5-a25a-1e373bc08ce1",
   "metadata": {},
   "outputs": [
    {
     "name": "stdout",
     "output_type": "stream",
     "text": [
      "[{'on_idx': 8, 'off_idx': 9, 'pitch': 34}, {'on_idx': 10, 'off_idx': 11, 'pitch': 41}, {'on_idx': 12, 'off_idx': 13, 'pitch': 44}, {'on_idx': 14, 'off_idx': 15, 'pitch': 51}, {'on_idx': 16, 'off_idx': 17, 'pitch': 56}, {'on_idx': 18, 'off_idx': 19, 'pitch': 34}, {'on_idx': 20, 'off_idx': 21, 'pitch': 41}, {'on_idx': 22, 'off_idx': 23, 'pitch': 41}, {'on_idx': 24, 'off_idx': 25, 'pitch': 47}, {'on_idx': 26, 'off_idx': 27, 'pitch': 42}, {'on_idx': 28, 'off_idx': 29, 'pitch': 35}, {'on_idx': 30, 'off_idx': 31, 'pitch': 40}, {'on_idx': 32, 'off_idx': 34, 'pitch': 47}, {'on_idx': 33, 'off_idx': 35, 'pitch': 34}, {'on_idx': 36, 'off_idx': 37, 'pitch': 41}, {'on_idx': 38, 'off_idx': 39, 'pitch': 39}, {'on_idx': 40, 'off_idx': 41, 'pitch': 39}, {'on_idx': 42, 'off_idx': 43, 'pitch': 46}, {'on_idx': 44, 'off_idx': 45, 'pitch': 44}, {'on_idx': 46, 'off_idx': 47, 'pitch': 38}, {'on_idx': 48, 'off_idx': 49, 'pitch': 45}, {'on_idx': 50, 'off_idx': 51, 'pitch': 43}, {'on_idx': 52, 'off_idx': 53, 'pitch': 50}, {'on_idx': 54, 'off_idx': 55, 'pitch': 37}, {'on_idx': 56, 'off_idx': 57, 'pitch': 44}, {'on_idx': 58, 'off_idx': 59, 'pitch': 42}, {'on_idx': 60, 'off_idx': 61, 'pitch': 36}, {'on_idx': 62, 'off_idx': 63, 'pitch': 43}, {'on_idx': 64, 'off_idx': 65, 'pitch': 41}, {'on_idx': 66, 'off_idx': 67, 'pitch': 48}, {'on_idx': 68, 'off_idx': 69, 'pitch': 36}, {'on_idx': 70, 'off_idx': 71, 'pitch': 43}, {'on_idx': 72, 'off_idx': 73, 'pitch': 41}, {'on_idx': 74, 'off_idx': 75, 'pitch': 48}, {'on_idx': 76, 'off_idx': 77, 'pitch': 46}, {'on_idx': 78, 'off_idx': 79, 'pitch': 41}, {'on_idx': 80, 'off_idx': 81, 'pitch': 34}, {'on_idx': 82, 'off_idx': 83, 'pitch': 37}, {'on_idx': 84, 'off_idx': 85, 'pitch': 44}, {'on_idx': 86, 'off_idx': 87, 'pitch': 42}, {'on_idx': 88, 'off_idx': 89, 'pitch': 49}, {'on_idx': 90, 'off_idx': 91, 'pitch': 35}, {'on_idx': 92, 'off_idx': 93, 'pitch': 42}, {'on_idx': 94, 'off_idx': 95, 'pitch': 34}, {'on_idx': 96, 'off_idx': 97, 'pitch': 41}, {'on_idx': 98, 'off_idx': 99, 'pitch': 44}, {'on_idx': 100, 'off_idx': 101, 'pitch': 51}, {'on_idx': 102, 'off_idx': 103, 'pitch': 56}, {'on_idx': 104, 'off_idx': 105, 'pitch': 34}, {'on_idx': 106, 'off_idx': 107, 'pitch': 46}, {'on_idx': 108, 'off_idx': 109, 'pitch': 34}, {'on_idx': 110, 'off_idx': 111, 'pitch': 41}, {'on_idx': 112, 'off_idx': 113, 'pitch': 41}, {'on_idx': 114, 'off_idx': 115, 'pitch': 41}, {'on_idx': 116, 'off_idx': 117, 'pitch': 35}, {'on_idx': 118, 'off_idx': 119, 'pitch': 40}, {'on_idx': 120, 'off_idx': 121, 'pitch': 47}, {'on_idx': 122, 'off_idx': 123, 'pitch': 46}, {'on_idx': 124, 'off_idx': 125, 'pitch': 34}, {'on_idx': 126, 'off_idx': 127, 'pitch': 39}, {'on_idx': 128, 'off_idx': 129, 'pitch': 46}, {'on_idx': 130, 'off_idx': 131, 'pitch': 39}, {'on_idx': 132, 'off_idx': 133, 'pitch': 44}, {'on_idx': 134, 'off_idx': 135, 'pitch': 51}, {'on_idx': 136, 'off_idx': 137, 'pitch': 38}, {'on_idx': 138, 'off_idx': 139, 'pitch': 43}, {'on_idx': 140, 'off_idx': 141, 'pitch': 50}, {'on_idx': 142, 'off_idx': 143, 'pitch': 37}, {'on_idx': 144, 'off_idx': 145, 'pitch': 42}, {'on_idx': 146, 'off_idx': 147, 'pitch': 49}, {'on_idx': 148, 'off_idx': 149, 'pitch': 36}, {'on_idx': 150, 'off_idx': 151, 'pitch': 43}, {'on_idx': 152, 'off_idx': 153, 'pitch': 41}, {'on_idx': 154, 'off_idx': 155, 'pitch': 36}, {'on_idx': 156, 'off_idx': 157, 'pitch': 43}, {'on_idx': 158, 'off_idx': 159, 'pitch': 41}, {'on_idx': 160, 'off_idx': 161, 'pitch': 46}, {'on_idx': 162, 'off_idx': 163, 'pitch': 41}, {'on_idx': 164, 'off_idx': 165, 'pitch': 34}, {'on_idx': 166, 'off_idx': 167, 'pitch': 49}, {'on_idx': 168, 'off_idx': 169, 'pitch': 44}, {'on_idx': 170, 'off_idx': 171, 'pitch': 37}, {'on_idx': 172, 'off_idx': 173, 'pitch': 42}, {'on_idx': 174, 'off_idx': 175, 'pitch': 49}, {'on_idx': 176, 'off_idx': 177, 'pitch': 35}, {'on_idx': 178, 'off_idx': 179, 'pitch': 42}, {'on_idx': 180, 'off_idx': 181, 'pitch': 34}, {'on_idx': 182, 'off_idx': 183, 'pitch': 41}, {'on_idx': 184, 'off_idx': 185, 'pitch': 41}, {'on_idx': 186, 'off_idx': 187, 'pitch': 44}, {'on_idx': 188, 'off_idx': 189, 'pitch': 51}, {'on_idx': 190, 'off_idx': 191, 'pitch': 51}, {'on_idx': 192, 'off_idx': 193, 'pitch': 34}, {'on_idx': 194, 'off_idx': 195, 'pitch': 41}, {'on_idx': 196, 'off_idx': 197, 'pitch': 41}, {'on_idx': 198, 'off_idx': 199, 'pitch': 35}, {'on_idx': 200, 'off_idx': 201, 'pitch': 40}, {'on_idx': 202, 'off_idx': 203, 'pitch': 47}, {'on_idx': 204, 'off_idx': 205, 'pitch': 34}, {'on_idx': 206, 'off_idx': 207, 'pitch': 39}, {'on_idx': 208, 'off_idx': 209, 'pitch': 39}, {'on_idx': 210, 'off_idx': 211, 'pitch': 46}, {'on_idx': 212, 'off_idx': 213, 'pitch': 44}, {'on_idx': 214, 'off_idx': 215, 'pitch': 38}, {'on_idx': 216, 'off_idx': 217, 'pitch': 43}, {'on_idx': 218, 'off_idx': 219, 'pitch': 37}, {'on_idx': 220, 'off_idx': 221, 'pitch': 44}, {'on_idx': 222, 'off_idx': 223, 'pitch': 42}, {'on_idx': 224, 'off_idx': 225, 'pitch': 49}, {'on_idx': 226, 'off_idx': 227, 'pitch': 36}, {'on_idx': 228, 'off_idx': 229, 'pitch': 41}, {'on_idx': 230, 'off_idx': 231, 'pitch': 48}, {'on_idx': 232, 'off_idx': 233, 'pitch': 48}, {'on_idx': 234, 'off_idx': 235, 'pitch': 43}, {'on_idx': 236, 'off_idx': 237, 'pitch': 36}, {'on_idx': 238, 'off_idx': 239, 'pitch': 41}, {'on_idx': 240, 'off_idx': 241, 'pitch': 48}, {'on_idx': 242, 'off_idx': 243, 'pitch': 46}, {'on_idx': 244, 'off_idx': 245, 'pitch': 41}, {'on_idx': 246, 'off_idx': 247, 'pitch': 34}, {'on_idx': 248, 'off_idx': 249, 'pitch': 49}, {'on_idx': 250, 'off_idx': 251, 'pitch': 44}, {'on_idx': 252, 'off_idx': 253, 'pitch': 37}, {'on_idx': 254, 'off_idx': 255, 'pitch': 42}, {'on_idx': 256, 'off_idx': 257, 'pitch': 49}, {'on_idx': 258, 'off_idx': 259, 'pitch': 35}, {'on_idx': 260, 'off_idx': 261, 'pitch': 42}]\n"
     ]
    }
   ],
   "source": [
    "print(notes_on_offs)"
   ]
  }
 ],
 "metadata": {
  "kernelspec": {
   "display_name": "Python 3 (ipykernel)",
   "language": "python",
   "name": "python3"
  },
  "language_info": {
   "codemirror_mode": {
    "name": "ipython",
    "version": 3
   },
   "file_extension": ".py",
   "mimetype": "text/x-python",
   "name": "python",
   "nbconvert_exporter": "python",
   "pygments_lexer": "ipython3",
   "version": "3.11.7"
  }
 },
 "nbformat": 4,
 "nbformat_minor": 5
}
